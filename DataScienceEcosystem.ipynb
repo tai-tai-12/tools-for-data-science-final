{
 "cells": [
  {
   "cell_type": "markdown",
   "id": "502b8c5e-a28b-408c-82ce-76eb3b47aaf5",
   "metadata": {},
   "source": [
    "# Data Science Tools and Ecosystem"
   ]
  },
  {
   "cell_type": "markdown",
   "id": "3a464911-2778-452c-af17-1aa779b0f718",
   "metadata": {},
   "source": [
    "In this notebook, Data Science Tools and Ecosystem are summarized."
   ]
  },
  {
   "cell_type": "markdown",
   "id": "68848831-e619-4a1e-9906-fbf9df38d78b",
   "metadata": {},
   "source": [
    "Some of the popular languages that Data Scientists use are:\n",
    "\n",
    "1. Python  \n",
    "2. R  \n",
    "3. SQL"
   ]
  },
  {
   "cell_type": "markdown",
   "id": "58968eb7-6464-4f03-8c7c-8fab2bb23f74",
   "metadata": {},
   "source": [
    "Some of the commonly used libraries used by Data Scientists include:\n",
    "\n",
    "1. Pandas  \n",
    "2. Matplotlib  \n",
    "3. Scikit-learn"
   ]
  },
  {
   "cell_type": "markdown",
   "id": "52c59f18-12a7-488c-9a12-f0e142833ec0",
   "metadata": {},
   "source": [
    "| Data Science Tools       |\n",
    "|--------------------------|\n",
    "| JupyterLab               |\n",
    "| RStudio                  |\n",
    "| VS Code                  |"
   ]
  },
  {
   "cell_type": "markdown",
   "id": "47fd9861-a1e3-414b-a6f0-e27c99ab47ec",
   "metadata": {},
   "source": [
    "### Below are a few examples of evaluating arithmetic expressions in Python."
   ]
  },
  {
   "cell_type": "code",
   "execution_count": 1,
   "id": "990d3d0b-af97-489d-ab21-cb1b3815fe3b",
   "metadata": {},
   "outputs": [
    {
     "data": {
      "text/plain": [
       "17"
      ]
     },
     "execution_count": 1,
     "metadata": {},
     "output_type": "execute_result"
    }
   ],
   "source": [
    "# This is a simple arithmetic expression to multiply then add integers.\n",
    "(3 * 4) + 5"
   ]
  },
  {
   "cell_type": "code",
   "execution_count": 2,
   "id": "894d0d1e-6ddd-4244-9038-58abb676c241",
   "metadata": {},
   "outputs": [
    {
     "data": {
      "text/plain": [
       "3.3333333333333335"
      ]
     },
     "execution_count": 2,
     "metadata": {},
     "output_type": "execute_result"
    }
   ],
   "source": [
    "# This will convert 200 minutes to hours by dividing by 60.\n",
    "200 / 60"
   ]
  },
  {
   "cell_type": "markdown",
   "id": "b29dc618-f524-436d-a611-d00c2c458b33",
   "metadata": {},
   "source": [
    "**Objectives:**\n",
    "\n",
    "- List popular languages for Data Science  \n",
    "- List commonly used libraries for Data Science  \n",
    "- Create and run arithmetic expressions  \n",
    "- Share Jupyter Notebooks via GitHub  \n",
    "- Use Markdown for documentation"
   ]
  },
  {
   "cell_type": "markdown",
   "id": "7009b71d-6368-40df-a7cc-60055821fcee",
   "metadata": {},
   "source": [
    "## Author\n",
    "\n",
    "Tai, Shih-Ting"
   ]
  },
  {
   "cell_type": "code",
   "execution_count": null,
   "id": "efd0e603-e00b-4eaa-a64f-d12d43e99d0b",
   "metadata": {},
   "outputs": [],
   "source": []
  }
 ],
 "metadata": {
  "kernelspec": {
   "display_name": "Python 3 (ipykernel)",
   "language": "python",
   "name": "python3"
  },
  "language_info": {
   "codemirror_mode": {
    "name": "ipython",
    "version": 3
   },
   "file_extension": ".py",
   "mimetype": "text/x-python",
   "name": "python",
   "nbconvert_exporter": "python",
   "pygments_lexer": "ipython3",
   "version": "3.9.13"
  }
 },
 "nbformat": 4,
 "nbformat_minor": 5
}
